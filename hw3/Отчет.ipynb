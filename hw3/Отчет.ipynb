{
 "cells": [
  {
   "cell_type": "markdown",
   "id": "5cc16bec",
   "metadata": {},
   "source": [
    "# Всем привет, сегодня мы будем делать дз по CouchDB (как я его поняла)"
   ]
  },
  {
   "cell_type": "markdown",
   "id": "a63a8d14",
   "metadata": {},
   "source": [
    "Установим с помощью brew"
   ]
  },
  {
   "cell_type": "markdown",
   "id": "e816bf36",
   "metadata": {},
   "source": [
    "![1](1.png)"
   ]
  },
  {
   "cell_type": "markdown",
   "id": "52577c81",
   "metadata": {},
   "source": [
    "Запустим"
   ]
  },
  {
   "cell_type": "markdown",
   "id": "a1cbb527",
   "metadata": {},
   "source": [
    "![2](2.png)"
   ]
  },
  {
   "cell_type": "markdown",
   "id": "1a0b91b0",
   "metadata": {},
   "source": [
    "Создала БД с странным названием и положила имя"
   ]
  },
  {
   "cell_type": "markdown",
   "id": "c8913822",
   "metadata": {},
   "source": [
    "![3](3.png)"
   ]
  },
  {
   "cell_type": "markdown",
   "id": "dbd55c82",
   "metadata": {},
   "source": [
    "Вместо имени вылезла дата. Ну допустим..."
   ]
  },
  {
   "cell_type": "markdown",
   "id": "7433ae77",
   "metadata": {},
   "source": [
    "![4](4.png)"
   ]
  },
  {
   "cell_type": "markdown",
   "id": "d10a42f6",
   "metadata": {},
   "source": [
    "Остановила"
   ]
  },
  {
   "cell_type": "markdown",
   "id": "782ba4fa",
   "metadata": {},
   "source": [
    "![5](5.png)"
   ]
  },
  {
   "cell_type": "markdown",
   "id": "98d2bb87",
   "metadata": {},
   "source": [
    "Обновила и засинкалась - вылезло то же"
   ]
  },
  {
   "cell_type": "markdown",
   "id": "aa9b6d68",
   "metadata": {},
   "source": [
    "**Happy End**"
   ]
  },
  {
   "cell_type": "code",
   "execution_count": null,
   "id": "afb0f96e",
   "metadata": {},
   "outputs": [],
   "source": []
  }
 ],
 "metadata": {
  "kernelspec": {
   "display_name": "Python 3 (ipykernel)",
   "language": "python",
   "name": "python3"
  },
  "language_info": {
   "codemirror_mode": {
    "name": "ipython",
    "version": 3
   },
   "file_extension": ".py",
   "mimetype": "text/x-python",
   "name": "python",
   "nbconvert_exporter": "python",
   "pygments_lexer": "ipython3",
   "version": "3.9.13"
  }
 },
 "nbformat": 4,
 "nbformat_minor": 5
}
