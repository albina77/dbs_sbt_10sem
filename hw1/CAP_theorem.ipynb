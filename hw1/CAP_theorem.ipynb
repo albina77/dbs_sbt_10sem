{
 "cells": [
  {
   "cell_type": "markdown",
   "id": "8dd5311e",
   "metadata": {},
   "source": [
    "# CAP теорема"
   ]
  },
  {
   "cell_type": "markdown",
   "id": "7a9ffd63",
   "metadata": {},
   "source": [
    "## DragonFly"
   ]
  },
  {
   "cell_type": "markdown",
   "id": "5071564b",
   "metadata": {},
   "source": [
    "Согласно слогану на их [главной странице](https://www.dragonflydb.io)  \n",
    "> Redis® with wings.  \n",
    "\n",
    "эта база данных явно является производной от Redis.  \n",
    "  \n",
    "Redis занимает место [CP](https://sprksh.github.io/distributed-systems/2020/04/17/nosql-cap-theorem-distributed-systems-summary.html):  \n",
    "> Redis: It is put under CP because redis cluster becomes unavailable in case of partition. Redis Sentinel & Redis cluster are two types of distributed redis setup.  \n",
    "\n",
    "При этом кажется интуитивно понятным, что увеличение количества потоков не может положительно влиять на доступность системы, оно лишь увеличивает рассинхронизацию"
   ]
  },
  {
   "cell_type": "markdown",
   "id": "58872999",
   "metadata": {},
   "source": [
    "![Примеры БД отностельно CAP теоремы](https://qph.cf2.quoracdn.net/main-qimg-08457045b0d56b6dd938f3b5d5a3b197-pjlq)"
   ]
  },
  {
   "cell_type": "markdown",
   "id": "a9336e8f",
   "metadata": {},
   "source": [
    "## ScyllaDB"
   ]
  },
  {
   "cell_type": "markdown",
   "id": "4b0b0884",
   "metadata": {},
   "source": [
    "Scylla [отвечает](https://www.scylladb.com/glossary/cap-theorem/#:~:text=In%20computer%20science%2C%20the%20CAP,and%20partition%20tolerance%20(CAP).) на этот вопрос сама:  \n",
    ">ScyllaDB is a PA/EL highly available, partition tolerant, low latency database system. "
   ]
  },
  {
   "cell_type": "markdown",
   "id": "9fe44ca0",
   "metadata": {},
   "source": [
    "## ArenadataDB\n"
   ]
  },
  {
   "cell_type": "markdown",
   "id": "7f12e0ab",
   "metadata": {},
   "source": [
    "![ArenadataDB](https://arenadata.tech/wp-content/uploads/2020/05/opengraph-adb.png)"
   ]
  },
  {
   "cell_type": "markdown",
   "id": "0a2b30db",
   "metadata": {},
   "source": [
    "> [Massively Parallel PostgreSQL for Analytics](https://greenplum.org)"
   ]
  },
  {
   "cell_type": "markdown",
   "id": "c73a0033",
   "metadata": {},
   "source": [
    "![Postgres](https://encrypted-tbn0.gstatic.com/images?q=tbn:ANd9GcTMNk1JKd7JjvefMp_Ucjj-cOrAsiETS57QIjZLPsoXlA&s)"
   ]
  },
  {
   "cell_type": "markdown",
   "id": "6fa24378",
   "metadata": {},
   "source": [
    "Вывод: **СА!**"
   ]
  },
  {
   "cell_type": "markdown",
   "id": "a7a26931",
   "metadata": {},
   "source": [
    "*Да, мои рассуждения довольно топорны, но киньте в меня камень те, кто без греха...*"
   ]
  },
  {
   "cell_type": "code",
   "execution_count": null,
   "id": "7974f6fd",
   "metadata": {},
   "outputs": [],
   "source": []
  }
 ],
 "metadata": {
  "kernelspec": {
   "display_name": "Python 3 (ipykernel)",
   "language": "python",
   "name": "python3"
  },
  "language_info": {
   "codemirror_mode": {
    "name": "ipython",
    "version": 3
   },
   "file_extension": ".py",
   "mimetype": "text/x-python",
   "name": "python",
   "nbconvert_exporter": "python",
   "pygments_lexer": "ipython3",
   "version": "3.9.13"
  }
 },
 "nbformat": 4,
 "nbformat_minor": 5
}
